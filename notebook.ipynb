{
 "cells": [
  {
   "cell_type": "code",
   "execution_count": null,
   "metadata": {},
   "outputs": [],
   "source": [
    "!git clone https://github.com/VahidZee/DRMADE.git"
   ]
  },
  {
   "cell_type": "code",
   "execution_count": null,
   "metadata": {},
   "outputs": [],
   "source": [
    "from google.colab import drive\n",
    "drive.mount('/content/drive')"
   ]
  },
  {
   "cell_type": "code",
   "execution_count": null,
   "metadata": {},
   "outputs": [],
   "source": [
    "%tensorflow_version 2.x\n",
    "%load_ext tensorboard"
   ]
  },
  {
   "cell_type": "code",
   "execution_count": null,
   "metadata": {},
   "outputs": [],
   "source": [
    "cd DRMADE/"
   ]
  },
  {
   "cell_type": "code",
   "execution_count": null,
   "metadata": {},
   "outputs": [],
   "source": [
    "from src.models.drmade import trainers\n",
    "from torchvision import datasets\n",
    "import torch.optim as optim"
   ]
  },
  {
   "cell_type": "code",
   "execution_count": null,
   "metadata": {},
   "outputs": [],
   "source": [
    "hyper_parameters = {\n",
    "    'latent_size': 32,\n",
    "    'made_hidden_layers':[64,64,64],\n",
    "    'num_masks':1,\n",
    "    \n",
    "    'freeze_encoder':False,\n",
    "    'iterative':True,\n",
    "    \n",
    "    'pgd/eps': 0.,\n",
    "    'pgd/iterations': 1,\n",
    "    'pgd/alpha': 0.05,\n",
    "    'pgd/randomize': False,\n",
    "    \n",
    "    'pgd_latent/eps':0.,\n",
    "    'pgd_latent/iterations': 1,\n",
    "    'pgd_latent/alpha': 0.05,\n",
    "    'pgd_latent/randomize': False,\n",
    "    \n",
    "    # optimizer and scheduler\n",
    "    'optimizer': optim.Adam,\n",
    "    'optimizer_hparams': {\n",
    "        'lr': 0.01,\n",
    "    },\n",
    "    'lr_schedule': 128,\n",
    "    \n",
    "    'dataset': datasets.MNIST,\n",
    "    'normal_classes':[8],\n",
    "    \n",
    "    'train_batch_size':1024,\n",
    "    \n",
    "    'max_epoch': 551,\n",
    "    'embedding_interval': 550,\n",
    "    'evaluation_interval': 25,\n",
    "    \n",
    "    'validation_interval':50,\n",
    "    'track_jacobian_random_selection':128,\n",
    "    'track_jacobian_interval':2,\n",
    "    \n",
    "    'save_interval': 50,\n",
    "    'output_root': './outputs/',\n",
    "}"
   ]
  },
  {
   "cell_type": "code",
   "execution_count": null,
   "metadata": {},
   "outputs": [],
   "source": [
    "trainer = trainers.RobustEncoderMadeTrainer(hparams=hyper_parameters)"
   ]
  },
  {
   "cell_type": "code",
   "execution_count": null,
   "metadata": {},
   "outputs": [],
   "source": [
    "%tensorboard --logdir ./outputs/runs"
   ]
  },
  {
   "cell_type": "code",
   "execution_count": null,
   "metadata": {
    "scrolled": true
   },
   "outputs": [],
   "source": [
    "trainer.train()"
   ]
  }
 ],
 "metadata": {
  "kernelspec": {
   "display_name": "Python 3",
   "language": "python",
   "name": "python3"
  },
  "language_info": {
   "codemirror_mode": {
    "name": "ipython",
    "version": 3
   },
   "file_extension": ".py",
   "mimetype": "text/x-python",
   "name": "python",
   "nbconvert_exporter": "python",
   "pygments_lexer": "ipython3",
   "version": "3.7.4"
  },
  "pycharm": {
   "stem_cell": {
    "cell_type": "raw",
    "metadata": {
     "collapsed": false
    },
    "source": []
   }
  }
 },
 "nbformat": 4,
 "nbformat_minor": 4
}
